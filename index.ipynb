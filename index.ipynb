{
 "cells": [
  {
   "cell_type": "code",
   "execution_count": null,
   "metadata": {},
   "outputs": [],
   "source": [
    "#hide\n",
    "from nbdev_template.core import *"
   ]
  },
  {
   "cell_type": "markdown",
   "metadata": {},
   "source": [
    "# Very first own documentation along with the code\n",
    "> Summary description here.\n",
    "\n",
    "We will make development and documentation easy for our python stuff"
   ]
  },
  {
   "cell_type": "markdown",
   "metadata": {},
   "source": [
    "This file will become your README and also the index of your documentation."
   ]
  },
  {
   "cell_type": "markdown",
   "metadata": {},
   "source": [
    "## Install"
   ]
  },
  {
   "cell_type": "markdown",
   "metadata": {},
   "source": [
    "pip install your_project_name"
   ]
  },
  {
   "cell_type": "markdown",
   "metadata": {},
   "source": [
    "## How to use"
   ]
  },
  {
   "cell_type": "markdown",
   "metadata": {},
   "source": [
    "Fill me in please! Don't forget code examples:"
   ]
  },
  {
   "cell_type": "code",
   "execution_count": null,
   "metadata": {},
   "outputs": [
    {
     "data": {
      "text/plain": [
       "2"
      ]
     },
     "execution_count": null,
     "metadata": {},
     "output_type": "execute_result"
    }
   ],
   "source": [
    "1+1"
   ]
  },
  {
   "cell_type": "markdown",
   "metadata": {},
   "source": [
    "The next version of my test documentation"
   ]
  },
  {
   "cell_type": "markdown",
   "metadata": {},
   "source": [
    "Necessary onetime preparation for using nbdev:\n",
    "https://jekyllrb.com/docs/installation/windows/#installation-via-bash-on-windows-10\n",
    "*Attention*: During this procedure I ran several times in error messages due to authorization. Therefore at the end I changed the authorizations of \n",
    "'/usr/local/' and '/var/lib/gems' to be readable and writeable for all users. \n",
    "The first step is \n",
    "- 'gem update'\n",
    "This takes around an hour. Please be patient.\n",
    "\n",
    "The seconde step is: \n",
    "- 'gem install jekyll bundler'\n",
    "This also took 30 minutes."
   ]
  },
  {
   "cell_type": "markdown",
   "metadata": {},
   "source": [
    "Necessary steps for a new nbdev project:\n",
    "\n",
    "0. for your project enable the Github pages\n",
    "1. nbdev_new for any project\n",
    "2. Edit the settings.ini\n",
    "3. nbdev_install_git_hooks\n",
    "4. write the code\n",
    "5. nbdev_build_libs\n",
    "6. Edit index.ipynb and include the module name from the settings.ini\n",
    "7. eventually run nbdev_test_nbs to test the notebooks\n",
    "8. Then run \n",
    "    make docs_serve\n",
    "    or later run only\n",
    "    nbdev_build_docs\n",
    "9. git add, commit and push"
   ]
  }
 ],
 "metadata": {
  "kernelspec": {
   "display_name": "Python 3",
   "language": "python",
   "name": "python3"
  }
 },
 "nbformat": 4,
 "nbformat_minor": 4
}
